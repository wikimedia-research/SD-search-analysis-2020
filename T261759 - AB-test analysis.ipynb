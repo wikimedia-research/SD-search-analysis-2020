{
 "cells": [
  {
   "cell_type": "markdown",
   "metadata": {},
   "source": [
    "# MediaSearch Interleaved A/B Test Analysis\n",
    "\n",
    "Morten Warncke-Wang, Staff Data Scientist\n",
    "\n",
    "2020-11-03\n",
    "\n",
    "## Executive Summary\n",
    "\n",
    "The Structured Data team ran a A/B test of search on Commons from September 10 to September 17, 2020. During the test, users were shown search results from both the standard search algorithm as well as the new Media Search algorithm at the same time. The Media Search algorithm incorporates structured data (e.g. depicts statements) into the search.\n",
    "\n",
    "Using data from searches performed during the A/B test, we investigate if users have a preference for the legacy search algorithm or the Media Search algorithm. We find evidence of a strong preference for the Media Search algorithm.\n",
    "\n",
    "## Introduction\n",
    "\n",
    "[Structured Data on Commons](https://commons.wikimedia.org/wiki/Commons:Structured_data) has been deployed since January 2019 and enables adding information to media files on Commons in a way that is multilingual and understandable by both humans and machines. As of late September, 2020, [more than half the files on Commons have at least one structured data statement](https://commons.wikimedia.org/w/index.php?title=Commons_talk:Structured_data&oldid=509432565#More_than_half_of_all_files_have_one_or_more_statements).\n",
    "\n",
    "The Structured Data team in the Wikimedia Foundation has been working on improving the search experience on Commons, both by creating an [improved user experience](https://commons.wikimedia.org/wiki/Special:MediaSearch?type=bitmap), and through collaboration with the Search team creating a search algorithm that incorporates structured data. This A/B test was run in order to understand whether this new search algorithm (hereby referred to as \"media search\") was preferred by users when compared with the existing search algorithm (from here on referred to as \"legacy search\").\n",
    "\n",
    "The A/B test was run over one week in order to account for activity patterns on Wikimedia projects that move in a weekly fashion. It started on September 10 and ended on September 17. The specific timestamps of when it started and ended that are used in the analysis below are extracted from the [Server Admin Log](https://wikitech.wikimedia.org/wiki/Server_Admin_Log).\n",
    "\n",
    "During the experiment users are shown search results from both the legacy and media search algorithms at the same time through what is called Team-Draft Interleaving. We'll explain how that works below, the key point of using that approach is to get an [unbiased estimator](https://en.wikipedia.org/wiki/Bias_of_an_estimator) of  user preference.\n",
    "\n",
    "This notebook is based on [Estimating Preference for Ranking Functions with Clicks on Interleaved Search Results](https://people.wikimedia.org/~bearloga/notes/interleaved.html) by WMF Senior Data Scientist Mikhail Popov, and the majority of the code in this notebook is written by him. The work of data quality assurance, sanity checks on the findings (as described below), and writing up this analysis was done by me. For reference, the phabricator task for this analysis is [T261759](https://phabricator.wikimedia.org/T261759).\n",
    "\n",
    "## Team-Draft Interleaving\n",
    "\n",
    "As mentioned above, the goal of Team-Draft Interleaving is to get an unbiased estimator of user preference. In other words, we want to know which of the two search algorithms (legacy and media search) that users prefer without introducing some kind of bias in the process.\n",
    "\n",
    "Per Joachims (2003), the design of a comparison between two search algorithms (in Joachims referred to as \"retrieval functions\") should:\n",
    "\n",
    "1. be blind to the user with respect to the underlying conditions.\n",
    "2. be robust to biases in the user's decision process that do not relate to retrieval quality.\n",
    "3. not substantially alter the search experience.\n",
    "4. lead to clicks that reflect the user's preference.\n",
    "\n",
    "Interleaving the results from two search algorithms addressses these problems, particularly point 3 in that a user cannot tell that they're part of an A/B test nor which algorithm produced the search results they're looking at. \n",
    "\n",
    "How does Team-Draft Interleaving work? To borrow an analogy from sports, it's somewhat similar to how teams are selected in a friendly sports match. In that example you might select two team captains, flip a coin to let one of them choose first, and then have them alternate between selecting what they each regard as the top remaining player for their team. They do this until every player is on a team.\n",
    "\n",
    "Team-Draft Interleaving is the same, except the coin flip happens every time both captains have had an opportunity to make a choice. And instead of team captains and players, we have search algorithms and a ranked list of search results from each of them.\n",
    "\n",
    "We then use clicks on the search results to understand if a user showed a preference for one of the algorithms over the other. The formula used for calculating the preference statistic can be found in M. Popov's [Estimating Preference for Ranking Functions with Clicks on Interleaved Search Results](https://people.wikimedia.org/~bearloga/notes/interleaved.html) mentioned above. Even more information can be found in Chapelle et al's \"Large-scale validation and analysis of interleaved search evaluation\" (full reference below).\n",
    "\n",
    "## Configuration and Data Gathering"
   ]
  },
  {
   "cell_type": "code",
   "execution_count": 1,
   "metadata": {},
   "outputs": [
    {
     "name": "stderr",
     "output_type": "stream",
     "text": [
      "── \u001b[1mAttaching packages\u001b[22m ─────────────────────────────────────── tidyverse 1.3.0 ──\n",
      "\n",
      "\u001b[32m✔\u001b[39m \u001b[34mggplot2\u001b[39m 3.3.2     \u001b[32m✔\u001b[39m \u001b[34mpurrr  \u001b[39m 0.3.4\n",
      "\u001b[32m✔\u001b[39m \u001b[34mtibble \u001b[39m 3.0.3     \u001b[32m✔\u001b[39m \u001b[34mdplyr  \u001b[39m 1.0.2\n",
      "\u001b[32m✔\u001b[39m \u001b[34mtidyr  \u001b[39m 1.1.2     \u001b[32m✔\u001b[39m \u001b[34mstringr\u001b[39m 1.4.0\n",
      "\u001b[32m✔\u001b[39m \u001b[34mreadr  \u001b[39m 1.3.1     \u001b[32m✔\u001b[39m \u001b[34mforcats\u001b[39m 0.5.0\n",
      "\n",
      "── \u001b[1mConflicts\u001b[22m ────────────────────────────────────────── tidyverse_conflicts() ──\n",
      "\u001b[31m✖\u001b[39m \u001b[34mdplyr\u001b[39m::\u001b[32mfilter()\u001b[39m masks \u001b[34mstats\u001b[39m::filter()\n",
      "\u001b[31m✖\u001b[39m \u001b[34mdplyr\u001b[39m::\u001b[32mlag()\u001b[39m    masks \u001b[34mstats\u001b[39m::lag()\n",
      "\n",
      "\n",
      "Attaching package: ‘lubridate’\n",
      "\n",
      "\n",
      "The following objects are masked from ‘package:base’:\n",
      "\n",
      "    date, intersect, setdiff, union\n",
      "\n",
      "\n"
     ]
    }
   ],
   "source": [
    "# install.packages(c(\"tidyverse\", \"remotes\", \"furrr\"))\n",
    "library(tidyverse)\n",
    "library(lubridate)\n",
    "library(future)\n",
    "plan(multiprocess(workers = getOption(\"mc.cores\", 2)))\n",
    "library(furrr) # future-enabled purrr\n",
    "\n",
    "library(wmfdata) # remotes::install_github(\"wikimedia/wmfdata-r\")\n",
    "library(wmfastr) # remotes::install_github(\"wikimedia/wmfastr\")"
   ]
  },
  {
   "cell_type": "code",
   "execution_count": 2,
   "metadata": {},
   "outputs": [],
   "source": [
    "# Name of the test configuration:\n",
    "subtest_name = 'mediasearch_commons_int'\n",
    "\n",
    "# Start and end timestamps (approximate is fine, as we also filter on subtest):\n",
    "start_ts = ymd_hms('2020-09-10T11:00:00Z')\n",
    "end_ts = ymd_hms('2020-09-17T12:00:00Z')"
   ]
  },
  {
   "cell_type": "markdown",
   "metadata": {},
   "source": [
    "The Spark SQL query below gathers all \"searchResultPage\" (SERP) and \"visitPage\" events captured during the A/B test. We gather SERP events because they contain information on which algorithm produced a specific search result, while the \"visitPage\" events capture which search result the user clicked on. The check for `event.subtest` ensures we only capture searches made as part of the A/B test, which in combination with the check for the wiki being Commons (`wiki = 'commonswiki'`) and the time range being within when the test ran makes sure we do not capture unrelated events.\n",
    "\n",
    "We filter out user agents that are identified as bots (`useragent.is_bot = false`), and we will discuss further sanity checks for automated agents below.\n",
    "\n",
    "Lastly there are a couple of checks, one to ensure a valid SERP and one to make sure that a \"visitPage\" event also contains information on what page was clicked. Apart from that the meat of the query grabs all relevant information about the events."
   ]
  },
  {
   "cell_type": "code",
   "execution_count": 3,
   "metadata": {},
   "outputs": [],
   "source": [
    "data_query = paste0(\"USE event;\n",
    "SELECT\n",
    "  coalesce(client_dt, meta.dt) AS event_ts,\n",
    "  event.uniqueId AS event_id,\n",
    "  event.mwSessionId AS mw_session_id,\n",
    "  event.pageViewId AS page_id,\n",
    "  event.articleId AS article_id,\n",
    "  event.searchSessionId AS session_id,\n",
    "  event.subTest AS group,\n",
    "  wiki,\n",
    "  event.source AS search_type, -- fulltext or autocomplete\n",
    "  event.searchtoken AS search_token, -- uniquely links visitPage events to specific SRP events\n",
    "  MD5(LOWER(TRIM(event.query))) AS query_hash,\n",
    "  event.action AS event,\n",
    "  IF(event.position < 0, NULL, event.position) AS event_position,\n",
    "  CASE\n",
    "    WHEN event.action = 'searchResultPage' AND event.hitsReturned > -1 THEN event.hitsReturned\n",
    "    WHEN event.action = 'searchResultPage' AND event.hitsReturned IS NULL THEN 0\n",
    "    ELSE NULL END AS n_results,\n",
    "  event.extraParams AS event_extraparams\n",
    "FROM searchsatisfaction\n",
    "WHERE year = 2020\n",
    "  AND month = 9\n",
    "  AND day BETWEEN 10 AND 17\n",
    "  AND event.subtest = '\", subtest_name, \"'\n",
    "  AND coalesce(client_dt, meta.dt) IS NOT NULL\n",
    "  AND coalesce(client_dt, meta.dt) > '\", format_ISO8601(start_ts), \"'\n",
    "  AND coalesce(client_dt, meta.dt) < '\", format_ISO8601(end_ts), \"'\n",
    "  AND wiki = 'commonswiki'\n",
    "  AND event.action IN ('searchResultPage', 'visitPage')\n",
    "  AND CASE\n",
    "    WHEN event.action = 'searchResultPage' THEN event.msToDisplayResults IS NOT NULL\n",
    "    WHEN event.action = 'visitPage' THEN event.pageViewId IS NOT NULL\n",
    "    ELSE TRUE END\n",
    "  AND useragent.is_bot = false;\"\n",
    ")"
   ]
  },
  {
   "cell_type": "markdown",
   "metadata": {},
   "source": [
    "If a backup dataset exists, we use that, otherwise we read data from the Data Lake and back it up to disk."
   ]
  },
  {
   "cell_type": "code",
   "execution_count": 4,
   "metadata": {},
   "outputs": [
    {
     "data": {
      "text/plain": [
       "NULL"
      ]
     },
     "metadata": {},
     "output_type": "display_data"
    }
   ],
   "source": [
    "if (!fs::file_exists(\"events.rds\")) {\n",
    "    # De-duplicated dataset does not exist yet\n",
    "    if (fs::file_exists(\"events_backup.rds\")) {\n",
    "        events <- readr::read_rds(\"events_backup.rds\") # load cached\n",
    "    } else {\n",
    "        events = query_hive(data_query)\n",
    "        readr::write_rds(events, \"events_backup.rds\", compress = \"gz\") # cache\n",
    "    }\n",
    "    print(c(Events = nrow(events), Sessions = length(unique(events$session_id))))\n",
    "} else {\n",
    "    # De-duplicated dataset exists, do nothing\n",
    "}"
   ]
  },
  {
   "cell_type": "markdown",
   "metadata": {},
   "source": [
    "If we have de-duplicated events available on disk we read those in, otherwise we de-duplicate based on the unique identifier each event has, and then write that data to disk."
   ]
  },
  {
   "cell_type": "code",
   "execution_count": 5,
   "metadata": {},
   "outputs": [
    {
     "name": "stdout",
     "output_type": "stream",
     "text": [
      "  Events Sessions \n",
      "  660962    59250 \n"
     ]
    }
   ],
   "source": [
    "if (fs::file_exists(\"events.rds\")) {\n",
    "    events <- readr::read_rds(\"events.rds\") # load cached\n",
    "} else {\n",
    "    # De-duplicate events:\n",
    "    events <- events %>%\n",
    "      dplyr::mutate(\n",
    "        timestamp = lubridate::ymd_hms(event_ts),\n",
    "        date = as.Date(timestamp)\n",
    "      ) %>%\n",
    "      dplyr::arrange(session_id, event_id, timestamp) %>%\n",
    "      dplyr::distinct(session_id, event_id, .keep_all = TRUE)\n",
    "    readr::write_rds(events, \"events.rds\", compress = \"gz\") # cache\n",
    "}\n",
    "print(c(Events = nrow(events), Sessions = length(unique(events$session_id))))"
   ]
  },
  {
   "cell_type": "markdown",
   "metadata": {},
   "source": [
    "## Assigning Teams (Search Algorithms) to Clicks\n",
    "\n",
    "`process_session()` takes an input of events belonging to a session, matches the visited pages with the team drafts in the search result page events, and outputs the memberships. It limits visited pages to those with a position of less than 20, as there is no interleaving on pages beyond the first one, and the highest combined number of interleaved results we have seen is 20."
   ]
  },
  {
   "cell_type": "code",
   "execution_count": 6,
   "metadata": {},
   "outputs": [],
   "source": [
    "process_session <- function(events_subset) {\n",
    "  serp_events <- events_subset %>%\n",
    "    filter(event == \"searchResultPage\", event_extraparams != \"NULL\", n_results > 0) %>%\n",
    "    # Extract team drafts from the extraParams JSON:\n",
    "    mutate(team_drafts = map(event_extraparams, ~ jsonlite::fromJSON(.x)$teamDraft)) %>%\n",
    "    select(page_id, search_token, n_results, team_drafts) %>%\n",
    "    # Remove SERP events missing team draft info:\n",
    "    filter(!map_lgl(team_drafts, is.null))\n",
    "  visit_page_events <- events_subset %>%\n",
    "    filter(event == \"visitPage\", event_position < 20) %>%\n",
    "    select(search_token, article_id)\n",
    "  visited_teams <- visit_page_events %>%\n",
    "    left_join(serp_events, by = \"search_token\") %>%\n",
    "    mutate(team = map2_chr(article_id, team_drafts, function(id, teams) {\n",
    "      dplyr::case_when(\n",
    "        id %in% teams$a ~ \"A\",\n",
    "        id %in% teams$b ~ \"B\",\n",
    "        TRUE ~ as.character(NA)\n",
    "      )\n",
    "    })) %>%\n",
    "    select(team)\n",
    "  return(visited_teams)\n",
    "}"
   ]
  },
  {
   "cell_type": "code",
   "execution_count": 7,
   "metadata": {},
   "outputs": [],
   "source": [
    "events <- split(events, events$session_id)\n",
    "visited <- future_map_dfr(events, process_session, .id = \"session_id\", .progress = FALSE)\n",
    "write_rds(visited, \"visited.rds\", compress = \"gz\")"
   ]
  },
  {
   "cell_type": "code",
   "execution_count": 8,
   "metadata": {},
   "outputs": [
    {
     "data": {
      "text/plain": [
       "\n",
       "    A     B \n",
       "14251 13591 "
      ]
     },
     "metadata": {},
     "output_type": "display_data"
    }
   ],
   "source": [
    "table(visited$team) # counts of visited pages from the two teams"
   ]
  },
  {
   "cell_type": "markdown",
   "metadata": {},
   "source": [
    "## Estimating User Preference\n",
    "\n",
    "We calculate the user preference statistic and use [bootstrapping](https://en.wikipedia.org/wiki/Bootstrapping_(statistics)) to obtain the distribution of said statistic. This allows us to determine 95% confidence interval bounds and thereby determine if there is a statistically significant difference (in which the confidence interval does not cover 0).\n",
    "\n",
    "If the preference statistic is positive and significant, it indicates a preference for legacy search, while if it is negative and significant, it indicates a preference for media search."
   ]
  },
  {
   "cell_type": "code",
   "execution_count": 9,
   "metadata": {},
   "outputs": [
    {
     "data": {
      "image/png": "[encoded data removed]",
      "text/plain": [
       "Plot with title “Histogram of boot_pref”"
      ]
     },
     "metadata": {
      "image/png": {
       "height": 420,
       "width": 420
      }
     },
     "output_type": "display_data"
    }
   ],
   "source": [
    "boot_pref <- interleaved_bootstraps(visited$session_id, visited$team)\n",
    "preference <- interleaved_preference(visited$session_id, visited$team)\n",
    "hist(boot_pref, col = \"gray70\", border = NA)\n",
    "abline(v = quantile(boot_pref, c(0.025, 0.975)), lty = \"dashed\")\n",
    "abline(v = preference, lwd = 2)"
   ]
  },
  {
   "cell_type": "code",
   "execution_count": 10,
   "metadata": {},
   "outputs": [
    {
     "data": {
      "text/html": [
       "-0.135142783637767"
      ],
      "text/latex": [
       "-0.135142783637767"
      ],
      "text/markdown": [
       "-0.135142783637767"
      ],
      "text/plain": [
       "[1] -0.1351428"
      ]
     },
     "metadata": {},
     "output_type": "display_data"
    }
   ],
   "source": [
    "preference"
   ]
  },
  {
   "cell_type": "code",
   "execution_count": 11,
   "metadata": {},
   "outputs": [
    {
     "data": {
      "text/html": [
       "<style>\n",
       ".dl-inline {width: auto; margin:0; padding: 0}\n",
       ".dl-inline>dt, .dl-inline>dd {float: none; width: auto; display: inline-block}\n",
       ".dl-inline>dt::after {content: \":\\0020\"; padding-right: .5ex}\n",
       ".dl-inline>dt:not(:first-of-type) {padding-left: .5ex}\n",
       "</style><dl class=dl-inline><dt>2.5%</dt><dd>-0.141798724017287</dd><dt>97.5%</dt><dd>-0.128935351924264</dd></dl>\n"
      ],
      "text/latex": [
       "\\begin{description*}\n",
       "\\item[2.5\\textbackslash{}\\%] -0.141798724017287\n",
       "\\item[97.5\\textbackslash{}\\%] -0.128935351924264\n",
       "\\end{description*}\n"
      ],
      "text/markdown": [
       "2.5%\n",
       ":   -0.14179872401728797.5%\n",
       ":   -0.128935351924264\n",
       "\n"
      ],
      "text/plain": [
       "      2.5%      97.5% \n",
       "-0.1417987 -0.1289354 "
      ]
     },
     "metadata": {},
     "output_type": "display_data"
    }
   ],
   "source": [
    "quantile(boot_pref, c(0.025, 0.975))"
   ]
  },
  {
   "cell_type": "markdown",
   "metadata": {},
   "source": [
    "We find the preference statistics to be negative ($-0.135$) and significant (95% confidence interval $[-0.142, -0.129]$, indicating a preference for the Media Search algorithm.\n",
    "\n",
    "How strong of a preference for Media Search is this? To get a sense of that, let us start with the definition of the preference statistic as found in [M. Popov's writeup](https://people.wikimedia.org/~bearloga/notes/interleaved.html) and note that it calculates the proportion of wins and gives ties half a point. The subtraction of 0.5 means the statistic is $0$ if it is all ties, $-0.5$ means Media Search won every time, and $0.5$ means legacy search won all the time. If we ignore the ties, then a score of $-0.135$ means legacy search wins 36.5% of the time, or conversely that Media Search wins 63.5% of the time. In other words, our results indicate a *strong preference* for Media Search.\n",
    "\n",
    "## Sanity Checks\n",
    "\n",
    "### Sessions with less than 20/50 searches\n",
    "\n",
    "In previous analysis of search tests run by the Wikimedia Foundation, there has been a threshold on the number of searches per session. This is because a high number of searches suggests a non-human user, and we are interested in understanding the behaviour of humans. We therefore check what the results are if we limit the number of searches per session."
   ]
  },
  {
   "cell_type": "code",
   "execution_count": 12,
   "metadata": {},
   "outputs": [],
   "source": [
    "session_lengths <- future_map_int(events, function(x) { nrow(x[x$event == 'searchResultPage', ]) })"
   ]
  },
  {
   "cell_type": "code",
   "execution_count": 13,
   "metadata": {},
   "outputs": [],
   "source": [
    "session_lengths <- enframe(session_lengths, name = 'session_id', value = 'num_searches')"
   ]
  },
  {
   "cell_type": "code",
   "execution_count": 14,
   "metadata": {},
   "outputs": [],
   "source": [
    "non_excessive_sessions <- session_lengths %>% filter(num_searches < 20)"
   ]
  },
  {
   "cell_type": "code",
   "execution_count": 15,
   "metadata": {},
   "outputs": [],
   "source": [
    "non_excessive_visited <- visited %>% filter(session_id %in% non_excessive_sessions$session_id)"
   ]
  },
  {
   "cell_type": "code",
   "execution_count": 16,
   "metadata": {},
   "outputs": [
    {
     "data": {
      "image/png": "[encoded data removed]",
      "text/plain": [
       "Plot with title “Histogram of ne_boot_pref”"
      ]
     },
     "metadata": {
      "image/png": {
       "height": 420,
       "width": 420
      }
     },
     "output_type": "display_data"
    }
   ],
   "source": [
    "ne_boot_pref <- interleaved_bootstraps(non_excessive_visited$session_id, non_excessive_visited$team)\n",
    "ne_preference <- interleaved_preference(non_excessive_visited$session_id, non_excessive_visited$team)\n",
    "hist(ne_boot_pref, col = \"gray70\", border = NA)\n",
    "abline(v = quantile(ne_boot_pref, c(0.025, 0.975)), lty = \"dashed\")\n",
    "abline(v = ne_preference, lwd = 2)"
   ]
  },
  {
   "cell_type": "code",
   "execution_count": 17,
   "metadata": {},
   "outputs": [
    {
     "data": {
      "text/html": [
       "-0.11849637450706"
      ],
      "text/latex": [
       "-0.11849637450706"
      ],
      "text/markdown": [
       "-0.11849637450706"
      ],
      "text/plain": [
       "[1] -0.1184964"
      ]
     },
     "metadata": {},
     "output_type": "display_data"
    }
   ],
   "source": [
    "ne_preference"
   ]
  },
  {
   "cell_type": "code",
   "execution_count": 18,
   "metadata": {},
   "outputs": [
    {
     "data": {
      "text/html": [
       "<style>\n",
       ".dl-inline {width: auto; margin:0; padding: 0}\n",
       ".dl-inline>dt, .dl-inline>dd {float: none; width: auto; display: inline-block}\n",
       ".dl-inline>dt::after {content: \":\\0020\"; padding-right: .5ex}\n",
       ".dl-inline>dt:not(:first-of-type) {padding-left: .5ex}\n",
       "</style><dl class=dl-inline><dt>2.5%</dt><dd>-0.125199548432233</dd><dt>97.5%</dt><dd>-0.110570501812631</dd></dl>\n"
      ],
      "text/latex": [
       "\\begin{description*}\n",
       "\\item[2.5\\textbackslash{}\\%] -0.125199548432233\n",
       "\\item[97.5\\textbackslash{}\\%] -0.110570501812631\n",
       "\\end{description*}\n"
      ],
      "text/markdown": [
       "2.5%\n",
       ":   -0.12519954843223397.5%\n",
       ":   -0.110570501812631\n",
       "\n"
      ],
      "text/plain": [
       "      2.5%      97.5% \n",
       "-0.1251995 -0.1105705 "
      ]
     },
     "metadata": {},
     "output_type": "display_data"
    }
   ],
   "source": [
    "quantile(ne_boot_pref, c(0.025, 0.975))"
   ]
  },
  {
   "cell_type": "markdown",
   "metadata": {},
   "source": [
    "I have run this with both 50 and 20 searches as the threshold, and the conclusion does not change: it is always a strong preference towards Media Search.\n",
    "\n",
    "## Conclusion\n",
    "\n",
    "Our analysis of data from the A/B test on Commons shows a strong preference for the Media Search algorithm over the legacy search algorithm.\n",
    "\n",
    "## References\n",
    "\n",
    "* Joachims, T. 2003. Evaluating Retrieval Performance using Clickthrough Data. In Text Mining, J. Franke,\n",
    "G. Nakhaeizadeh, and I. Renz, Eds., Physica/Springer Verlag, 79–96.\n",
    "* Chapelle, O., Joachims, T., Radlinski, F., & Yue, Y. (2012). Large-scale validation and analysis of interleaved search evaluation. ACM Transactions on Information Systems, 30(1), 1-41. [doi:10.1145/2094072.2094078](https://doi.org/10.1145/2094072.2094078)\n",
    "* Radlinski, F. and Craswell, N. (2013). [Optimized interleaving for online retrieval evaluation](https://www.microsoft.com/en-us/research/publication/optimized-interleaving-for-online-retrieval-evaluation/). ACM International Conference on Web Search and Data Mining (WSDM). [doi:10.1145/2433396.2433429](https://doi.org/10.1145/2433396.2433429)"
   ]
  }
 ],
 "metadata": {
  "kernelspec": {
   "display_name": "R",
   "language": "R",
   "name": "ir"
  },
  "language_info": {
   "codemirror_mode": "r",
   "file_extension": ".r",
   "mimetype": "text/x-r-source",
   "name": "R",
   "pygments_lexer": "r",
   "version": "3.5.2"
  }
 },
 "nbformat": 4,
 "nbformat_minor": 4
}
