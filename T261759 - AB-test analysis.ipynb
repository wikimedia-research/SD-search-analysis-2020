{
 "cells": [
  {
   "cell_type": "markdown",
   "metadata": {},
   "source": [
    "# MediaSearch Interleaved A/B Test Analysis\n",
    "\n",
    "The Structured Data team ran an interleaved A/B test of search on Commons, and we're wanting to understand if there was a difference in preference between the two options. This analysis builds on [Estimating Preference for Ranking Functions with Clicks on Interleaved Search Results](https://people.wikimedia.org/~bearloga/notes/interleaved.html) that Mikhail wrote.\n",
    "\n",
    "The phabricator task for this analysis is [T261759](https://phabricator.wikimedia.org/T261759)\n",
    "\n",
    "The test started on 2020-09-10, and ended on 2020-09-17. The timestamps are roughly accurate to within a minute and are gathered from the [Server Admin Log](https://wikitech.wikimedia.org/wiki/Server_Admin_Log)."
   ]
  },
  {
   "cell_type": "code",
   "execution_count": 1,
   "metadata": {},
   "outputs": [
    {
     "data": {
      "text/html": [
       "<script>  \n",
       "code_show=true; \n",
       "function code_toggle() {\n",
       "  if (code_show){\n",
       "    $('div.input').hide();\n",
       "  } else {\n",
       "    $('div.input').show();\n",
       "  }\n",
       "  code_show = !code_show\n",
       "}  \n",
       "$( document ).ready(code_toggle);\n",
       "</script>\n",
       "  <form action=\"javascript:code_toggle()\">\n",
       "    <input type=\"submit\" value=\"Click here to toggle on/off the raw code.\">\n",
       " </form>"
      ]
     },
     "metadata": {},
     "output_type": "display_data"
    }
   ],
   "source": [
    "# https://stackoverflow.com/a/35018739/1091835\n",
    "library(IRdisplay)\n",
    "\n",
    "display_html(\n",
    "'<script>  \n",
    "code_show=true; \n",
    "function code_toggle() {\n",
    "  if (code_show){\n",
    "    $(\\'div.input\\').hide();\n",
    "  } else {\n",
    "    $(\\'div.input\\').show();\n",
    "  }\n",
    "  code_show = !code_show\n",
    "}  \n",
    "$( document ).ready(code_toggle);\n",
    "</script>\n",
    "  <form action=\"javascript:code_toggle()\">\n",
    "    <input type=\"submit\" value=\"Click here to toggle on/off the raw code.\">\n",
    " </form>'\n",
    ")"
   ]
  },
  {
   "cell_type": "code",
   "execution_count": 2,
   "metadata": {},
   "outputs": [
    {
     "name": "stderr",
     "output_type": "stream",
     "text": [
      "\n",
      "Attaching package: ‘lubridate’\n",
      "\n",
      "\n",
      "The following objects are masked from ‘package:base’:\n",
      "\n",
      "    date, intersect, setdiff, union\n",
      "\n",
      "\n"
     ]
    }
   ],
   "source": [
    "library(tidyr)\n",
    "library(lubridate)\n",
    "library(Rcpp)\n",
    "import::from(\n",
    "    # We don't import certain verbs (e.g. distinct, left_join, bind_rows)\n",
    "    # to avoid potential name-conflicts and because they're one-time use.\n",
    "    dplyr,\n",
    "    # Subsetting Verbs\n",
    "    keep_where = filter, select,\n",
    "    # Grouping Verbs\n",
    "    group_by, ungroup,\n",
    "    # Manipulation Verbs\n",
    "    mutate, arrange, summarize, tally,\n",
    "    # Utility Functions\n",
    "    case_when, if_else\n",
    ")\n",
    "\n",
    "# install.packages(\"remotes\", repos = c(CRAN = \"https://cran.rstudio.com/\"))\n",
    "\n",
    "# remotes::install_github(\"wikimedia/wmfdata-r\")\n",
    "library(wmfdata)\n",
    "\n",
    "# remotes::install_github(\"wikimedia/wmfastr\")\n",
    "library(wmfastr)\n",
    "\n",
    "## Options\n",
    "options(mc.cores = 4, digits = 3, scipen = 500)\n",
    "\n",
    "## Defining a custom theme for all plots\n",
    "commons_theme = function() {\n",
    "    theme_ipsum_rc(\n",
    "        base_size = 14, axis_title_size = 12, subtitle_size = 16,\n",
    "        axis_title_just = 'cm'\n",
    "    )\n",
    "}"
   ]
  },
  {
   "cell_type": "code",
   "execution_count": 3,
   "metadata": {},
   "outputs": [],
   "source": [
    "cppFunction('CharacterVector fill_in(CharacterVector ids) {\n",
    "  CharacterVector new_ids(ids.size());\n",
    "  String current_id = ids[0];\n",
    "  new_ids[0] = current_id;\n",
    "  for (int i = 1; i < ids.size(); i++) {\n",
    "    if (ids[i] != NA_STRING) {\n",
    "      current_id = ids[i];\n",
    "    }\n",
    "    new_ids[i] = current_id;\n",
    "  }\n",
    "  return new_ids;\n",
    "}')"
   ]
  },
  {
   "cell_type": "code",
   "execution_count": 4,
   "metadata": {},
   "outputs": [],
   "source": [
    "# Process interleaved team draft\n",
    "process_session <- function(df) {\n",
    "  processed_session <- unsplit(lapply(split(df, df$serp_id), function(df) {\n",
    "    if (is.na(df$event_extraparams[1]) || df$event_extraparams[1] == \"\" || df$event_extraparams[1] == \"NULL\") {\n",
    "      visited_pages <- rep(as.character(NA), times = nrow(df))\n",
    "    } else {\n",
    "      from_json <- jsonlite::fromJSON(df$event_extraparams[1], simplifyVector = FALSE)\n",
    "      if (!(\"teamDraft\" %in% names(from_json)) || all(is.na(df$article_id))) {\n",
    "        visited_pages <- rep(as.character(NA), times = nrow(df))\n",
    "      } else {\n",
    "        team_a <- unlist(from_json$teamDraft$a)\n",
    "        team_b <- unlist(from_json$teamDraft$b)\n",
    "        visited_pages <- vapply(df$article_id, function(article_id) {\n",
    "          if (article_id %in% team_a) {\n",
    "            return(\"A\")\n",
    "          } else if (article_id %in% team_b) {\n",
    "            return(\"B\")\n",
    "          } else {\n",
    "            return(as.character(NA))\n",
    "          }\n",
    "        }, \"\")\n",
    "      }\n",
    "    }\n",
    "    return(visited_pages)\n",
    "  }), df$serp_id)\n",
    "  return(processed_session)\n",
    "}"
   ]
  },
  {
   "cell_type": "markdown",
   "metadata": {},
   "source": [
    "## Configuration Variables"
   ]
  },
  {
   "cell_type": "code",
   "execution_count": 5,
   "metadata": {},
   "outputs": [],
   "source": [
    "## Name of the test configuration\n",
    "subtest_name = 'mediasearch_commons_int'\n",
    "\n",
    "## Start and end timestamps (approximate is fine,\n",
    "## as we also filter on subtest)\n",
    "start_ts = ymd_hms('2020-09-10T11:00:00Z')\n",
    "end_ts = ymd_hms('2020-09-17T12:00:00Z')"
   ]
  },
  {
   "cell_type": "code",
   "execution_count": 6,
   "metadata": {},
   "outputs": [
    {
     "data": {
      "text/html": [
       "'2020-09-10T11:00:00'"
      ],
      "text/latex": [
       "'2020-09-10T11:00:00'"
      ],
      "text/markdown": [
       "'2020-09-10T11:00:00'"
      ],
      "text/plain": [
       "[1] \"2020-09-10T11:00:00\""
      ]
     },
     "metadata": {},
     "output_type": "display_data"
    }
   ],
   "source": [
    "format_ISO8601(start_ts)"
   ]
  },
  {
   "cell_type": "markdown",
   "metadata": {},
   "source": [
    "# Data Gathering\n",
    "\n",
    "This data gathering is based on the query used by autoreporter in [fetch_data.R](https://gerrit.wikimedia.org/r/plugins/gitiles/wikimedia/discovery/autoreporter/+/refs/heads/master/modules/data/fetch_data.R)"
   ]
  },
  {
   "cell_type": "code",
   "execution_count": 7,
   "metadata": {},
   "outputs": [],
   "source": [
    "data_query = paste0(\"\n",
    "SELECT\n",
    "    coalesce(client_dt, meta.dt) AS event_ts,\n",
    "    event.uniqueId AS event_id,\n",
    "    event.mwSessionId,\n",
    "    event.pageViewId AS page_id,\n",
    "    event.articleId AS article_id,\n",
    "    event.searchSessionId AS session_id,\n",
    "    event.subTest AS group,\n",
    "    wiki,\n",
    "    MD5(LOWER(TRIM(event.query))) AS query_hash,\n",
    "    event.action AS event,\n",
    "    IF(event.position < 0, NULL, event.position) AS event_position,\n",
    "    CASE\n",
    "        WHEN event.action = 'searchResultPage' AND event.hitsReturned > 0 THEN 'TRUE'\n",
    "        WHEN event.action = 'searchResultPage' AND event.hitsReturned IS NULL THEN 'FALSE'\n",
    "        ELSE NULL\n",
    "    END AS `some same-wiki results`,\n",
    "    CASE\n",
    "        WHEN event.action = 'searchResultPage' AND event.hitsReturned > -1 THEN event.hitsReturned\n",
    "        WHEN event.action = 'searchResultPage' AND event.hitsReturned IS NULL THEN 0\n",
    "        ELSE NULL\n",
    "    END AS n_results,\n",
    "    event.scroll AS event_scroll,\n",
    "    event.checkin AS event_checkin,\n",
    "    event.extraParams AS event_extraparams,\n",
    "    event.msToDisplayResults AS load_time,\n",
    "    useragent AS user_agent\n",
    "  FROM event.searchsatisfaction\n",
    "  WHERE year = 2020\n",
    "  AND month = 9\n",
    "  AND day BETWEEN 10 AND 17\n",
    "  AND event.subtest = '\", subtest_name, \"'\n",
    "  AND coalesce(client_dt, meta.dt) IS NOT NULL\n",
    "  AND coalesce(client_dt, meta.dt) > '\", format_ISO8601(start_ts), \"'\n",
    "  AND coalesce(client_dt, meta.dt) < '\", format_ISO8601(end_ts), \"'\n",
    "  AND wiki = 'commonswiki'\n",
    "  AND event.action IN ('searchResultPage', 'click', 'visitPage', 'checkin')\n",
    "  AND useragent.is_bot = false\n",
    "  AND CASE\n",
    "    WHEN event.action = 'searchResultPage' THEN event.msToDisplayResults IS NOT NULL\n",
    "    WHEN event.action = 'click' THEN event.position IS NOT NULL AND event.position > -1\n",
    "    WHEN event.action = 'visitPage' THEN event.pageViewId IS NOT NULL\n",
    "    WHEN event.action = 'checkin' THEN event.checkin IS NOT NULL AND event.pageViewId IS NOT NULL\n",
    "    ELSE TRUE\n",
    "  END;\"\n",
    ")"
   ]
  },
  {
   "cell_type": "code",
   "execution_count": 8,
   "metadata": {},
   "outputs": [
    {
     "name": "stderr",
     "output_type": "stream",
     "text": [
      "Don't forget to authenticate with Kerberos using kinit\n",
      "\n"
     ]
    }
   ],
   "source": [
    "events = query_hive(data_query)"
   ]
  },
  {
   "cell_type": "code",
   "execution_count": 9,
   "metadata": {},
   "outputs": [],
   "source": [
    "events_backup <- events"
   ]
  },
  {
   "cell_type": "code",
   "execution_count": 17,
   "metadata": {},
   "outputs": [],
   "source": [
    "# events <- events_backup"
   ]
  },
  {
   "cell_type": "code",
   "execution_count": 18,
   "metadata": {},
   "outputs": [
    {
     "data": {
      "text/html": [
       "929154"
      ],
      "text/latex": [
       "929154"
      ],
      "text/markdown": [
       "929154"
      ],
      "text/plain": [
       "[1] 929154"
      ]
     },
     "metadata": {},
     "output_type": "display_data"
    }
   ],
   "source": [
    "length(events$session_id)"
   ]
  },
  {
   "cell_type": "markdown",
   "metadata": {},
   "source": [
    "# Data Cleaning"
   ]
  },
  {
   "cell_type": "code",
   "execution_count": 19,
   "metadata": {},
   "outputs": [],
   "source": [
    "# De-duplicating events\n",
    "events <- events %>%\n",
    "  mutate(\n",
    "    timestamp = lubridate::ymd_hms(event_ts),\n",
    "    date = as.Date(timestamp)\n",
    "  ) %>%\n",
    "  arrange(session_id, event_id, timestamp) %>%\n",
    "  dplyr::distinct(session_id, event_id, .keep_all = TRUE)"
   ]
  },
  {
   "cell_type": "code",
   "execution_count": 20,
   "metadata": {},
   "outputs": [
    {
     "data": {
      "text/html": [
       "929012"
      ],
      "text/latex": [
       "929012"
      ],
      "text/markdown": [
       "929012"
      ],
      "text/plain": [
       "[1] 929012"
      ]
     },
     "metadata": {},
     "output_type": "display_data"
    }
   ],
   "source": [
    "length(events$session_id)"
   ]
  },
  {
   "cell_type": "raw",
   "metadata": {},
   "source": [
    "# Removing unnecessary check-ins\n",
    "events <- events %>%\n",
    "  group_by(wiki, group, session_id, page_id) %>%\n",
    "  mutate(event_scroll = ifelse(event == \"checkin\", sum(event_scroll), event_scroll)) %>% # sum all scroll on visitPage and checkin events\n",
    "  ungroup\n",
    "events <- events[order(events$ranking_function, events$session_id, events$page_id, events$article_id, events$event, events$event_checkin, na.last = FALSE), ]\n",
    "extra_checkins <- duplicated(events[, c(\"ranking_function\", \"session_id\", \"page_id\", \"article_id\", \"event\")], fromLast = TRUE) & events$event == \"checkin\"\n",
    "events <- events[!extra_checkins, ]\n",
    "rm(extra_checkins)"
   ]
  },
  {
   "cell_type": "code",
   "execution_count": 21,
   "metadata": {},
   "outputs": [],
   "source": [
    "# Delete events with negative load time\n",
    "events <- events %>%\n",
    "  keep_where(is.na(load_time) | load_time >= 0)"
   ]
  },
  {
   "cell_type": "code",
   "execution_count": 22,
   "metadata": {},
   "outputs": [
    {
     "data": {
      "text/html": [
       "929003"
      ],
      "text/latex": [
       "929003"
      ],
      "text/markdown": [
       "929003"
      ],
      "text/plain": [
       "[1] 929003"
      ]
     },
     "metadata": {},
     "output_type": "display_data"
    }
   ],
   "source": [
    "length(events$session_id)"
   ]
  },
  {
   "cell_type": "code",
   "execution_count": 25,
   "metadata": {},
   "outputs": [],
   "source": [
    "# De-duplicating SERPs\n",
    "SERPs <- events %>%\n",
    "  keep_where(event == \"searchResultPage\") %>%\n",
    "  dplyr::arrange(wiki, group, session_id, timestamp) %>%\n",
    "  select(c(group, session_id, page_id, query_hash)) %>%\n",
    "  group_by(group, session_id, query_hash) %>%\n",
    "  mutate(search_id = page_id[1]) %>%\n",
    "  ungroup %>%\n",
    "  select(c(group, session_id, page_id, search_id))\n",
    "events <- events %>%\n",
    "  dplyr::left_join(SERPs, by = c(\"group\", \"session_id\", \"page_id\"))\n",
    "rm(SERPs) # to free up memory"
   ]
  },
  {
   "cell_type": "code",
   "execution_count": 26,
   "metadata": {},
   "outputs": [
    {
     "data": {
      "text/html": [
       "3412361"
      ],
      "text/latex": [
       "3412361"
      ],
      "text/markdown": [
       "3412361"
      ],
      "text/plain": [
       "[1] 3412361"
      ]
     },
     "metadata": {},
     "output_type": "display_data"
    }
   ],
   "source": [
    "length(events$session_id)"
   ]
  },
  {
   "cell_type": "code",
   "execution_count": 27,
   "metadata": {},
   "outputs": [],
   "source": [
    "# Removing events without an associated SERP (orphan clicks and check-ins)...\n",
    "events <- events %>%\n",
    "  keep_where(!(is.na(search_id) & !(event %in% c(\"visitPage\", \"checkin\")))) %>% # remove orphan click\n",
    "  group_by(session_id) %>%\n",
    "  keep_where(\"searchResultPage\" %in% event) %>% # remove orphan \"visitPage\" and \"checkin\"\n",
    "  ungroup"
   ]
  },
  {
   "cell_type": "code",
   "execution_count": 28,
   "metadata": {},
   "outputs": [
    {
     "data": {
      "text/html": [
       "3409966"
      ],
      "text/latex": [
       "3409966"
      ],
      "text/markdown": [
       "3409966"
      ],
      "text/plain": [
       "[1] 3409966"
      ]
     },
     "metadata": {},
     "output_type": "display_data"
    }
   ],
   "source": [
    "length(events$session_id)"
   ]
  },
  {
   "cell_type": "code",
   "execution_count": 29,
   "metadata": {},
   "outputs": [
    {
     "name": "stderr",
     "output_type": "stream",
     "text": [
      "`summarise()` regrouping output by 'date', 'group' (override with `.groups` argument)\n",
      "\n"
     ]
    }
   ],
   "source": [
    "# Removing sessions with more than 50 searches\n",
    "spider_session <- events %>%\n",
    "  group_by(date, group, session_id) %>%\n",
    "  summarize(n_search = length(unique(search_id))) %>%\n",
    "  keep_where(n_search > 50) %>%\n",
    "  {.$session_id}\n",
    "events <- events %>%\n",
    "  keep_where(!(session_id %in% spider_session))"
   ]
  },
  {
   "cell_type": "code",
   "execution_count": 30,
   "metadata": {},
   "outputs": [
    {
     "data": {
      "text/html": [
       "3364093"
      ],
      "text/latex": [
       "3364093"
      ],
      "text/markdown": [
       "3364093"
      ],
      "text/plain": [
       "[1] 3364093"
      ]
     },
     "metadata": {},
     "output_type": "display_data"
    }
   ],
   "source": [
    "length(events$session_id)"
   ]
  },
  {
   "cell_type": "code",
   "execution_count": 31,
   "metadata": {},
   "outputs": [],
   "source": [
    "## Fill in serp_id for visitPage and checkin events\n",
    "events %<>%\n",
    "  mutate(serp_id = ifelse(event %in% c(\"visitPage\", \"checkin\"), NA, page_id),\n",
    "         event = factor(event, levels = c(\"searchResultPage\", \"click\", \"ssclick\", \"iwclick\", \"hover-on\", \"esclick\", \"hover-off\", \"visitPage\", \"checkin\"))) %>%\n",
    "  dplyr::arrange(wiki, group, session_id, timestamp, event) %>%\n",
    "  mutate(serp_id = fill_in(serp_id))"
   ]
  },
  {
   "cell_type": "code",
   "execution_count": 32,
   "metadata": {},
   "outputs": [
    {
     "data": {
      "text/html": [
       "3364093"
      ],
      "text/latex": [
       "3364093"
      ],
      "text/markdown": [
       "3364093"
      ],
      "text/plain": [
       "[1] 3364093"
      ]
     },
     "metadata": {},
     "output_type": "display_data"
    }
   ],
   "source": [
    "length(events$session_id)"
   ]
  },
  {
   "cell_type": "markdown",
   "metadata": {},
   "source": [
    "## Extract and Assign Teams\n",
    "\n",
    "This assigns teams based on \"teamDraft\" in `event_extraparams` for SERPs, assigning them to events that have an `article_id` set."
   ]
  },
  {
   "cell_type": "code",
   "execution_count": 33,
   "metadata": {},
   "outputs": [],
   "source": [
    "events_interleaved <- events"
   ]
  },
  {
   "cell_type": "code",
   "execution_count": 34,
   "metadata": {},
   "outputs": [],
   "source": [
    "events_interleaved %<>%\n",
    "    keep_where(events_interleaved$event %in% c(\"searchResultPage\", \"click\", \"visitPage\", \"checkin\")) %>%\n",
    "    dplyr::arrange(wiki, group, session_id, timestamp, event) %>%\n",
    "    mutate(search_id = fill_in(search_id))"
   ]
  },
  {
   "cell_type": "code",
   "execution_count": 35,
   "metadata": {},
   "outputs": [
    {
     "data": {
      "text/html": [
       "3364093"
      ],
      "text/latex": [
       "3364093"
      ],
      "text/markdown": [
       "3364093"
      ],
      "text/plain": [
       "[1] 3364093"
      ]
     },
     "metadata": {},
     "output_type": "display_data"
    }
   ],
   "source": [
    "length(events_interleaved$session_id)"
   ]
  },
  {
   "cell_type": "code",
   "execution_count": 36,
   "metadata": {},
   "outputs": [],
   "source": [
    "events_interleaved <- data.table::data.table(events_interleaved)"
   ]
  },
  {
   "cell_type": "code",
   "execution_count": 37,
   "metadata": {},
   "outputs": [],
   "source": [
    "events_interleaved[,\n",
    "                   team := process_session(.SD),\n",
    "                   by = c(\"wiki\", \"group\", \"session_id\"),\n",
    "                   .SDcols = c(\"serp_id\", \"event_extraparams\", \"article_id\")]"
   ]
  },
  {
   "cell_type": "code",
   "execution_count": 38,
   "metadata": {},
   "outputs": [],
   "source": [
    "events_interleaved <- events_interleaved[\n",
    "    order(events_interleaved$wiki, events_interleaved$group, events_interleaved$session_id,\n",
    "          events_interleaved$serp_id, events_interleaved$timestamp, events_interleaved$event), ]"
   ]
  },
  {
   "cell_type": "code",
   "execution_count": 39,
   "metadata": {},
   "outputs": [],
   "source": [
    "events_interleaved[, event_extraparams := NULL, ]"
   ]
  },
  {
   "cell_type": "code",
   "execution_count": 40,
   "metadata": {},
   "outputs": [
    {
     "data": {
      "text/html": [
       "3364093"
      ],
      "text/latex": [
       "3364093"
      ],
      "text/markdown": [
       "3364093"
      ],
      "text/plain": [
       "[1] 3364093"
      ]
     },
     "metadata": {},
     "output_type": "display_data"
    }
   ],
   "source": [
    "length(events_interleaved$session_id)"
   ]
  },
  {
   "cell_type": "markdown",
   "metadata": {},
   "source": [
    "# Estimation"
   ]
  },
  {
   "cell_type": "code",
   "execution_count": 41,
   "metadata": {},
   "outputs": [],
   "source": [
    "click_data = events_interleaved[events_interleaved$event == 'visitPage', ]\n",
    "click_data = click_data[order(click_data$session_id, click_data$timestamp), ]"
   ]
  },
  {
   "cell_type": "code",
   "execution_count": 42,
   "metadata": {},
   "outputs": [],
   "source": [
    "# Remove events without an assigned team,\n",
    "# or where the position is above 10, which is when interleaving stops\n",
    "click_data = click_data[!is.na(team) & event_position < 10,\n",
    "                        list(session_id, timestamp, event,\n",
    "                             position = as.numeric(event_position), ranking_function = team)]"
   ]
  },
  {
   "cell_type": "code",
   "execution_count": 43,
   "metadata": {},
   "outputs": [],
   "source": [
    "boot_click_data = interleaved_bootstraps(click_data$session_id, click_data$ranking_function)"
   ]
  },
  {
   "cell_type": "code",
   "execution_count": 44,
   "metadata": {},
   "outputs": [
    {
     "data": {
      "image/png": "[encoded data removed]",
      "text/plain": [
       "Plot with title “Preference?”"
      ]
     },
     "metadata": {
      "image/png": {
       "height": 420,
       "width": 420
      }
     },
     "output_type": "display_data"
    }
   ],
   "source": [
    "hist(boot_click_data, col = \"gray70\", border = NA,\n",
    "     main = \"Preference?\", xlab = \"Bootstrapped preferences\")\n",
    "abline(v = quantile(boot_click_data, c(0.025, 0.975)), lty = \"dashed\")\n",
    "abline(v = interleaved_preference(click_data$session_id, click_data$ranking_function), lwd = 2)"
   ]
  },
  {
   "cell_type": "markdown",
   "metadata": {},
   "source": [
    "We find a slight preference for team A, as seen by the preference score being positive, and the confidence interval not including zero. In this case team A is the control condition, legacy search on Commons."
   ]
  }
 ],
 "metadata": {
  "kernelspec": {
   "display_name": "R",
   "language": "R",
   "name": "ir"
  },
  "language_info": {
   "codemirror_mode": "r",
   "file_extension": ".r",
   "mimetype": "text/x-r-source",
   "name": "R",
   "pygments_lexer": "r",
   "version": "3.5.2"
  }
 },
 "nbformat": 4,
 "nbformat_minor": 4
}
