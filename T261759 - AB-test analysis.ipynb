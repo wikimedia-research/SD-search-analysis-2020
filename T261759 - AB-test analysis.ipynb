{
 "cells": [
  {
   "cell_type": "markdown",
   "metadata": {},
   "source": [
    "# MediaSearch Interleaved A/B Test Analysis\n",
    "\n",
    "The Structured Data team ran an interleaved A/B test of search on Commons, and we're wanting to understand if there was a difference in preference between the two options. This analysis builds on [Estimating Preference for Ranking Functions with Clicks on Interleaved Search Results](https://people.wikimedia.org/~bearloga/notes/interleaved.html) by Mikhail Popov, and the majority of this notebook is also written by him.\n",
    "\n",
    "The phabricator task for this analysis is [T261759](https://phabricator.wikimedia.org/T261759)\n",
    "\n",
    "The test started on 2020-09-10, and ended on 2020-09-17. The timestamps are roughly accurate to within a minute and are gathered from the [Server Admin Log](https://wikitech.wikimedia.org/wiki/Server_Admin_Log)."
   ]
  },
  {
   "cell_type": "code",
   "execution_count": 1,
   "metadata": {},
   "outputs": [
    {
     "data": {
      "text/html": [
       "<script>  \n",
       "code_show=true; \n",
       "function code_toggle() {\n",
       "  if (code_show){\n",
       "    $('div.input').hide();\n",
       "  } else {\n",
       "    $('div.input').show();\n",
       "  }\n",
       "  code_show = !code_show\n",
       "}  \n",
       "$( document ).ready(code_toggle);\n",
       "</script>\n",
       "  <form action=\"javascript:code_toggle()\">\n",
       "    <input type=\"submit\" value=\"Click here to toggle on/off the raw code.\">\n",
       " </form>"
      ]
     },
     "metadata": {},
     "output_type": "display_data"
    }
   ],
   "source": [
    "# https://stackoverflow.com/a/35018739/1091835\n",
    "library(IRdisplay)\n",
    "\n",
    "display_html(\n",
    "'<script>  \n",
    "code_show=true; \n",
    "function code_toggle() {\n",
    "  if (code_show){\n",
    "    $(\\'div.input\\').hide();\n",
    "  } else {\n",
    "    $(\\'div.input\\').show();\n",
    "  }\n",
    "  code_show = !code_show\n",
    "}  \n",
    "$( document ).ready(code_toggle);\n",
    "</script>\n",
    "  <form action=\"javascript:code_toggle()\">\n",
    "    <input type=\"submit\" value=\"Click here to toggle on/off the raw code.\">\n",
    " </form>'\n",
    ")"
   ]
  },
  {
   "cell_type": "code",
   "execution_count": 2,
   "metadata": {},
   "outputs": [
    {
     "name": "stderr",
     "output_type": "stream",
     "text": [
      "── \u001b[1mAttaching packages\u001b[22m ─────────────────────────────────────── tidyverse 1.3.0 ──\n",
      "\n",
      "\u001b[32m✔\u001b[39m \u001b[34mggplot2\u001b[39m 3.3.2     \u001b[32m✔\u001b[39m \u001b[34mpurrr  \u001b[39m 0.3.4\n",
      "\u001b[32m✔\u001b[39m \u001b[34mtibble \u001b[39m 3.0.3     \u001b[32m✔\u001b[39m \u001b[34mdplyr  \u001b[39m 1.0.2\n",
      "\u001b[32m✔\u001b[39m \u001b[34mtidyr  \u001b[39m 1.1.2     \u001b[32m✔\u001b[39m \u001b[34mstringr\u001b[39m 1.4.0\n",
      "\u001b[32m✔\u001b[39m \u001b[34mreadr  \u001b[39m 1.3.1     \u001b[32m✔\u001b[39m \u001b[34mforcats\u001b[39m 0.5.0\n",
      "\n",
      "── \u001b[1mConflicts\u001b[22m ────────────────────────────────────────── tidyverse_conflicts() ──\n",
      "\u001b[31m✖\u001b[39m \u001b[34mdplyr\u001b[39m::\u001b[32mfilter()\u001b[39m masks \u001b[34mstats\u001b[39m::filter()\n",
      "\u001b[31m✖\u001b[39m \u001b[34mdplyr\u001b[39m::\u001b[32mlag()\u001b[39m    masks \u001b[34mstats\u001b[39m::lag()\n",
      "\n",
      "\n",
      "Attaching package: ‘lubridate’\n",
      "\n",
      "\n",
      "The following objects are masked from ‘package:base’:\n",
      "\n",
      "    date, intersect, setdiff, union\n",
      "\n",
      "\n"
     ]
    }
   ],
   "source": [
    "# install.packages(c(\"tidyverse\", \"remotes\", \"furrr\"))\n",
    "library(tidyverse)\n",
    "library(lubridate)\n",
    "library(future)\n",
    "plan(multiprocess(workers = getOption(\"mc.cores\", 2)))\n",
    "library(furrr) # future-enabled purrr\n",
    "\n",
    "library(wmfdata) # remotes::install_github(\"wikimedia/wmfdata-r\")\n",
    "library(wmfastr) # remotes::install_github(\"wikimedia/wmfastr\")"
   ]
  },
  {
   "cell_type": "code",
   "execution_count": 3,
   "metadata": {},
   "outputs": [],
   "source": [
    "# Name of the test configuration:\n",
    "subtest_name = 'mediasearch_commons_int'\n",
    "\n",
    "# Start and end timestamps (approximate is fine, as we also filter on subtest):\n",
    "start_ts = ymd_hms('2020-09-10T11:00:00Z')\n",
    "end_ts = ymd_hms('2020-09-17T12:00:00Z')"
   ]
  },
  {
   "cell_type": "code",
   "execution_count": 4,
   "metadata": {},
   "outputs": [],
   "source": [
    "data_query = paste0(\"USE event;\n",
    "SELECT\n",
    "  coalesce(client_dt, meta.dt) AS event_ts,\n",
    "  event.uniqueId AS event_id,\n",
    "  event.mwSessionId AS mw_session_id,\n",
    "  event.pageViewId AS page_id,\n",
    "  event.articleId AS article_id,\n",
    "  event.searchSessionId AS session_id,\n",
    "  event.subTest AS group,\n",
    "  wiki,\n",
    "  event.source AS search_type, -- fulltext or autocomplete\n",
    "  event.searchtoken AS search_token, -- uniquely links visitPage events to specific SRP events\n",
    "  MD5(LOWER(TRIM(event.query))) AS query_hash,\n",
    "  event.action AS event,\n",
    "  IF(event.position < 0, NULL, event.position) AS event_position,\n",
    "  CASE\n",
    "    WHEN event.action = 'searchResultPage' AND event.hitsReturned > -1 THEN event.hitsReturned\n",
    "    WHEN event.action = 'searchResultPage' AND event.hitsReturned IS NULL THEN 0\n",
    "    ELSE NULL END AS n_results,\n",
    "  event.extraParams AS event_extraparams\n",
    "FROM searchsatisfaction\n",
    "WHERE year = 2020\n",
    "  AND month = 9\n",
    "  AND day BETWEEN 10 AND 17\n",
    "  AND event.subtest = '\", subtest_name, \"'\n",
    "  AND coalesce(client_dt, meta.dt) IS NOT NULL\n",
    "  AND coalesce(client_dt, meta.dt) > '\", format_ISO8601(start_ts), \"'\n",
    "  AND coalesce(client_dt, meta.dt) < '\", format_ISO8601(end_ts), \"'\n",
    "  AND wiki = 'commonswiki'\n",
    "  AND event.action IN ('searchResultPage', 'visitPage')\n",
    "  AND CASE\n",
    "    WHEN event.action = 'searchResultPage' THEN event.msToDisplayResults IS NOT NULL\n",
    "    WHEN event.action = 'visitPage' THEN event.pageViewId IS NOT NULL\n",
    "    ELSE TRUE END\n",
    "  AND useragent.is_bot = false;\"\n",
    ")"
   ]
  },
  {
   "cell_type": "code",
   "execution_count": 5,
   "metadata": {},
   "outputs": [
    {
     "data": {
      "text/plain": [
       "NULL"
      ]
     },
     "metadata": {},
     "output_type": "display_data"
    }
   ],
   "source": [
    "if (!fs::file_exists(\"events.rds\")) {\n",
    "    # De-duplicated dataset does not exist yet\n",
    "    if (fs::file_exists(\"events_backup.rds\")) {\n",
    "        events <- readr::read_rds(\"events_backup.rds\") # load cached\n",
    "    } else {\n",
    "        events = query_hive(data_query)\n",
    "        readr::write_rds(events, \"events_backup.rds\", compress = \"gz\") # cache\n",
    "    }\n",
    "    print(c(Events = nrow(events), Sessions = length(unique(events$session_id))))\n",
    "} else {\n",
    "    # De-duplicated dataset exists, do nothing\n",
    "}"
   ]
  },
  {
   "cell_type": "code",
   "execution_count": 6,
   "metadata": {},
   "outputs": [
    {
     "name": "stdout",
     "output_type": "stream",
     "text": [
      "  Events Sessions \n",
      "  660962    59250 \n"
     ]
    }
   ],
   "source": [
    "if (fs::file_exists(\"events.rds\")) {\n",
    "    events <- readr::read_rds(\"events.rds\") # load cached\n",
    "} else {\n",
    "    # De-duplicate events:\n",
    "    events <- events %>%\n",
    "      dplyr::mutate(\n",
    "        timestamp = lubridate::ymd_hms(event_ts),\n",
    "        date = as.Date(timestamp)\n",
    "      ) %>%\n",
    "      dplyr::arrange(session_id, event_id, timestamp) %>%\n",
    "      dplyr::distinct(session_id, event_id, .keep_all = TRUE)\n",
    "    readr::write_rds(events, \"events.rds\", compress = \"gz\") # cache\n",
    "}\n",
    "print(c(Events = nrow(events), Sessions = length(unique(events$session_id))))"
   ]
  },
  {
   "cell_type": "markdown",
   "metadata": {},
   "source": [
    "`process_session()` takes an input of events belonging to a session, matches the visited pages with the team drafts in the search result page events, and outputs the memberships. It limits visited pages to those with a position of less than 20, as there is no interleaving on pages beyond the first one, and the highest combined number of interleaved results we've seen is 20."
   ]
  },
  {
   "cell_type": "code",
   "execution_count": 7,
   "metadata": {},
   "outputs": [],
   "source": [
    "process_session <- function(events_subset) {\n",
    "  serp_events <- events_subset %>%\n",
    "    filter(event == \"searchResultPage\", event_extraparams != \"NULL\", n_results > 0) %>%\n",
    "    # Extract team drafts from the extraParams JSON:\n",
    "    mutate(team_drafts = map(event_extraparams, ~ jsonlite::fromJSON(.x)$teamDraft)) %>%\n",
    "    select(page_id, search_token, n_results, team_drafts) %>%\n",
    "    # Remove SERP events missing team draft info:\n",
    "    filter(!map_lgl(team_drafts, is.null))\n",
    "  visit_page_events <- events_subset %>%\n",
    "    filter(event == \"visitPage\", event_position < 20) %>%\n",
    "    select(search_token, article_id)\n",
    "  visited_teams <- visit_page_events %>%\n",
    "    left_join(serp_events, by = \"search_token\") %>%\n",
    "    mutate(team = map2_chr(article_id, team_drafts, function(id, teams) {\n",
    "      dplyr::case_when(\n",
    "        id %in% teams$a ~ \"A\",\n",
    "        id %in% teams$b ~ \"B\",\n",
    "        TRUE ~ as.character(NA)\n",
    "      )\n",
    "    })) %>%\n",
    "    select(team)\n",
    "  return(visited_teams)\n",
    "}"
   ]
  },
  {
   "cell_type": "code",
   "execution_count": 15,
   "metadata": {},
   "outputs": [],
   "source": [
    "events <- split(events, events$session_id)\n",
    "visited <- future_map_dfr(events, process_session, .id = \"session_id\", .progress = FALSE)\n",
    "write_rds(visited, \"visited.rds\", compress = \"gz\")"
   ]
  },
  {
   "cell_type": "code",
   "execution_count": 16,
   "metadata": {},
   "outputs": [
    {
     "data": {
      "text/plain": [
       "\n",
       "    A     B \n",
       "14251 13591 "
      ]
     },
     "metadata": {},
     "output_type": "display_data"
    }
   ],
   "source": [
    "table(visited$team) # counts of visited pages from the two teams"
   ]
  },
  {
   "cell_type": "code",
   "execution_count": 10,
   "metadata": {},
   "outputs": [
    {
     "data": {
      "image/png": "[encoded data removed]",
      "text/plain": [
       "Plot with title “Histogram of boot_pref”"
      ]
     },
     "metadata": {
      "image/png": {
       "height": 420,
       "width": 420
      }
     },
     "output_type": "display_data"
    }
   ],
   "source": [
    "boot_pref <- interleaved_bootstraps(visited$session_id, visited$team)\n",
    "preference <- interleaved_preference(visited$session_id, visited$team)\n",
    "hist(boot_pref, col = \"gray70\", border = NA)\n",
    "abline(v = quantile(boot_pref, c(0.025, 0.975)), lty = \"dashed\")\n",
    "abline(v = preference, lwd = 2)"
   ]
  },
  {
   "cell_type": "code",
   "execution_count": 11,
   "metadata": {},
   "outputs": [
    {
     "data": {
      "text/html": [
       "-0.135142783637767"
      ],
      "text/latex": [
       "-0.135142783637767"
      ],
      "text/markdown": [
       "-0.135142783637767"
      ],
      "text/plain": [
       "[1] -0.1351428"
      ]
     },
     "metadata": {},
     "output_type": "display_data"
    }
   ],
   "source": [
    "preference"
   ]
  },
  {
   "cell_type": "code",
   "execution_count": 12,
   "metadata": {},
   "outputs": [
    {
     "data": {
      "text/html": [
       "<style>\n",
       ".dl-inline {width: auto; margin:0; padding: 0}\n",
       ".dl-inline>dt, .dl-inline>dd {float: none; width: auto; display: inline-block}\n",
       ".dl-inline>dt::after {content: \":\\0020\"; padding-right: .5ex}\n",
       ".dl-inline>dt:not(:first-of-type) {padding-left: .5ex}\n",
       "</style><dl class=dl-inline><dt>2.5%</dt><dd>-0.141438567606503</dd><dt>97.5%</dt><dd>-0.128677454208685</dd></dl>\n"
      ],
      "text/latex": [
       "\\begin{description*}\n",
       "\\item[2.5\\textbackslash{}\\%] -0.141438567606503\n",
       "\\item[97.5\\textbackslash{}\\%] -0.128677454208685\n",
       "\\end{description*}\n"
      ],
      "text/markdown": [
       "2.5%\n",
       ":   -0.14143856760650397.5%\n",
       ":   -0.128677454208685\n",
       "\n"
      ],
      "text/plain": [
       "      2.5%      97.5% \n",
       "-0.1414386 -0.1286775 "
      ]
     },
     "metadata": {},
     "output_type": "display_data"
    }
   ],
   "source": [
    "quantile(boot_pref, c(0.025, 0.975))"
   ]
  },
  {
   "cell_type": "markdown",
   "metadata": {},
   "source": [
    "## Sessions with less than 20/50 searches\n",
    "\n",
    "In previous analysis of searches, there's been a threshold on the number of searches per session. This is because a high number of searches suggests a non-human user, and we're interested in understanding the behaviour of humans. We therefore check what the results are if we limit the number of searches per session."
   ]
  },
  {
   "cell_type": "code",
   "execution_count": 17,
   "metadata": {},
   "outputs": [],
   "source": [
    "session_lengths <- future_map_int(events, function(x) { nrow(x[x$event == 'searchResultPage', ]) })"
   ]
  },
  {
   "cell_type": "code",
   "execution_count": 18,
   "metadata": {},
   "outputs": [],
   "source": [
    "session_lengths <- enframe(session_lengths, name = 'session_id', value = 'num_searches')"
   ]
  },
  {
   "cell_type": "code",
   "execution_count": 19,
   "metadata": {},
   "outputs": [],
   "source": [
    "non_excessive_sessions <- session_lengths %>% filter(num_searches < 20)"
   ]
  },
  {
   "cell_type": "code",
   "execution_count": 20,
   "metadata": {},
   "outputs": [],
   "source": [
    "non_excessive_visited <- visited %>% filter(session_id %in% non_excessive_sessions$session_id)"
   ]
  },
  {
   "cell_type": "code",
   "execution_count": 21,
   "metadata": {},
   "outputs": [
    {
     "data": {
      "image/png": "[encoded data removed]",
      "text/plain": [
       "Plot with title “Histogram of ne_boot_pref”"
      ]
     },
     "metadata": {
      "image/png": {
       "height": 420,
       "width": 420
      }
     },
     "output_type": "display_data"
    }
   ],
   "source": [
    "ne_boot_pref <- interleaved_bootstraps(non_excessive_visited$session_id, non_excessive_visited$team)\n",
    "ne_preference <- interleaved_preference(non_excessive_visited$session_id, non_excessive_visited$team)\n",
    "hist(ne_boot_pref, col = \"gray70\", border = NA)\n",
    "abline(v = quantile(ne_boot_pref, c(0.025, 0.975)), lty = \"dashed\")\n",
    "abline(v = ne_preference, lwd = 2)"
   ]
  },
  {
   "cell_type": "code",
   "execution_count": 22,
   "metadata": {},
   "outputs": [
    {
     "data": {
      "text/html": [
       "-0.11849637450706"
      ],
      "text/latex": [
       "-0.11849637450706"
      ],
      "text/markdown": [
       "-0.11849637450706"
      ],
      "text/plain": [
       "[1] -0.1184964"
      ]
     },
     "metadata": {},
     "output_type": "display_data"
    }
   ],
   "source": [
    "ne_preference"
   ]
  },
  {
   "cell_type": "markdown",
   "metadata": {},
   "source": [
    "I've run this with both 50 and 20 searches as the threshold, and the conclusion doesn't change: it's always an overwhelming majority towards Media Search.\n",
    "\n",
    "## Conclusions\n",
    "\n",
    "We've done this analysis counting only `visitPage` events with a position below 20, as the notebook currently does, and without that limitation. We've also checked whether a threshold for number of searches per session affects the findings, and found that neither 50 nor 20 has a significant effect. In all cases, we find a strong preference towards the new Media Search algorithm."
   ]
  }
 ],
 "metadata": {
  "kernelspec": {
   "display_name": "R",
   "language": "R",
   "name": "ir"
  },
  "language_info": {
   "codemirror_mode": "r",
   "file_extension": ".r",
   "mimetype": "text/x-r-source",
   "name": "R",
   "pygments_lexer": "r",
   "version": "3.5.2"
  }
 },
 "nbformat": 4,
 "nbformat_minor": 4
}
